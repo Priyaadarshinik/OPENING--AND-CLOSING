{
 "cells": [
  {
   "cell_type": "code",
   "execution_count": null,
   "id": "b64f6791",
   "metadata": {},
   "outputs": [],
   "source": [
    "# Import the necessary packages\n",
    "import cv2\n",
    "import numpy as np\n",
    "from matplotlib import pyplot as plt\n",
    "     "
   ]
  },
  {
   "cell_type": "code",
   "execution_count": null,
   "id": "114a697f",
   "metadata": {},
   "outputs": [],
   "source": [
    "# Create the text using cv2.putText\n",
    "\n"
   ]
  },
  {
   "cell_type": "code",
   "execution_count": null,
   "id": "75682b8c",
   "metadata": {},
   "outputs": [],
   "source": [
    "# Create the structuring element"
   ]
  },
  {
   "cell_type": "code",
   "execution_count": null,
   "id": "2a27ac33",
   "metadata": {},
   "outputs": [],
   "source": [
    "# Use the Opening Operation\n"
   ]
  },
  {
   "cell_type": "code",
   "execution_count": null,
   "id": "9b6405f3",
   "metadata": {},
   "outputs": [],
   "source": [
    "# Use the Closing Operation\n"
   ]
  }
 ],
 "metadata": {
  "kernelspec": {
   "display_name": "Python 3 (ipykernel)",
   "language": "python",
   "name": "python3"
  },
  "language_info": {
   "codemirror_mode": {
    "name": "ipython",
    "version": 3
   },
   "file_extension": ".py",
   "mimetype": "text/x-python",
   "name": "python",
   "nbconvert_exporter": "python",
   "pygments_lexer": "ipython3",
   "version": "3.9.12"
  }
 },
 "nbformat": 4,
 "nbformat_minor": 5
}
